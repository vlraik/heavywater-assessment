{
  "nbformat": 4,
  "nbformat_minor": 0,
  "metadata": {
    "colab": {
      "name": "Exploratory Analysis.ipynb",
      "provenance": [],
      "collapsed_sections": [],
      "machine_shape": "hm"
    },
    "kernelspec": {
      "name": "python3",
      "display_name": "Python 3"
    }
  },
  "cells": [
    {
      "cell_type": "code",
      "metadata": {
        "id": "iQR9ycd7cqHO",
        "colab_type": "code",
        "outputId": "7ed1ce29-9f7b-4654-aad4-fef9d77dab63",
        "colab": {
          "base_uri": "https://localhost:8080/",
          "height": 122
        }
      },
      "source": [
        "from google.colab import drive\n",
        "drive.mount('/content/drive')"
      ],
      "execution_count": 0,
      "outputs": [
        {
          "output_type": "stream",
          "text": [
            "Go to this URL in a browser: https://accounts.google.com/o/oauth2/auth?client_id=947318989803-6bn6qk8qdgf4n4g3pfee6491hc0brc4i.apps.googleusercontent.com&redirect_uri=urn%3aietf%3awg%3aoauth%3a2.0%3aoob&response_type=code&scope=email%20https%3a%2f%2fwww.googleapis.com%2fauth%2fdocs.test%20https%3a%2f%2fwww.googleapis.com%2fauth%2fdrive%20https%3a%2f%2fwww.googleapis.com%2fauth%2fdrive.photos.readonly%20https%3a%2f%2fwww.googleapis.com%2fauth%2fpeopleapi.readonly\n",
            "\n",
            "Enter your authorization code:\n",
            "··········\n",
            "Mounted at /content/drive\n"
          ],
          "name": "stdout"
        }
      ]
    },
    {
      "cell_type": "code",
      "metadata": {
        "id": "7y0Juwt7dElh",
        "colab_type": "code",
        "outputId": "49460b66-fae8-4700-c3ed-8427af16ed1a",
        "colab": {
          "base_uri": "https://localhost:8080/",
          "height": 204
        }
      },
      "source": [
        "!ls 'drive/My Drive/Colab Notebooks'"
      ],
      "execution_count": 0,
      "outputs": [
        {
          "output_type": "stream",
          "text": [
            " AttentionModel.ipynb\t\t   shuffled-full-set-hashed.csv\n",
            "'baseline result on testdata'\t   testdata\n",
            " color_tensorflow_real_mode.h5\t   Test_q2.xlsx\n",
            " HMM_Classification.ipynb\t   Train_q2.xlsx\n",
            " images\t\t\t\t   Untitled0.ipynb\n",
            " LSTM_Classifcation.ipynb\t   Untitled1.ipynb\n",
            " lstm_classification_keras.ipynb   Untitled2.ipynb\n",
            " model.json\t\t\t   Untitled3.ipynb\n",
            " model.pkl\t\t\t   Untitled4.ipynb\n",
            " Opencountry\t\t\t   Untitled5.ipynb\n",
            " Sampling.ipynb\n"
          ],
          "name": "stdout"
        }
      ]
    },
    {
      "cell_type": "code",
      "metadata": {
        "id": "leyT73FydifS",
        "colab_type": "code",
        "outputId": "a39b0d12-00dd-4a70-bc0c-82272b1d3ac0",
        "colab": {
          "base_uri": "https://localhost:8080/",
          "height": 34
        }
      },
      "source": [
        "cd 'drive/My Drive/Colab Notebooks'"
      ],
      "execution_count": 0,
      "outputs": [
        {
          "output_type": "stream",
          "text": [
            "/content/drive/My Drive/Colab Notebooks\n"
          ],
          "name": "stdout"
        }
      ]
    },
    {
      "cell_type": "markdown",
      "metadata": {
        "id": "yte4z8uDmVIC",
        "colab_type": "text"
      },
      "source": [
        "#### Let's load all the important packages"
      ]
    },
    {
      "cell_type": "code",
      "metadata": {
        "id": "MmXLQ_zQfCkk",
        "colab_type": "code",
        "colab": {}
      },
      "source": [
        "import pandas as pd\n",
        "import numpy as np\n",
        "from collections import Counter\n",
        "import matplotlib.pyplot as plt\n",
        "import seaborn as sns\n",
        "from sklearn.calibration import CalibratedClassifierCV\n",
        "from sklearn.feature_selection import chi2\n",
        "from sklearn.pipeline import Pipeline\n",
        "from sklearn.feature_extraction.text import TfidfVectorizer, CountVectorizer, TfidfTransformer\n",
        "from sklearn.feature_selection import SelectKBest\n",
        "from sklearn.metrics import confusion_matrix, accuracy_score\n",
        "from sklearn.linear_model import LogisticRegression\n",
        "from sklearn.svm import LinearSVC\n",
        "from sklearn.model_selection import cross_val_score, train_test_split, StratifiedKFold\n",
        "from xgboost import XGBClassifier\n",
        "from sklearn.ensemble import RandomForestClassifier"
      ],
      "execution_count": 0,
      "outputs": []
    },
    {
      "cell_type": "markdown",
      "metadata": {
        "id": "BhZ2Ln7mmaFH",
        "colab_type": "text"
      },
      "source": [
        "#### Loading the model file and giving headers to the columns. "
      ]
    },
    {
      "cell_type": "code",
      "metadata": {
        "id": "0evXvOiahJZm",
        "colab_type": "code",
        "outputId": "9bd13aa6-f729-4055-a4a8-b328b02c5fca",
        "colab": {
          "base_uri": "https://localhost:8080/",
          "height": 204
        }
      },
      "source": [
        "data= pd.read_csv('shuffled-full-set-hashed.csv',header=None)\n",
        "data.columns = ['Category','Sentences']\n",
        "display(data.head())\n"
      ],
      "execution_count": 0,
      "outputs": [
        {
          "output_type": "display_data",
          "data": {
            "text/html": [
              "<div>\n",
              "<style scoped>\n",
              "    .dataframe tbody tr th:only-of-type {\n",
              "        vertical-align: middle;\n",
              "    }\n",
              "\n",
              "    .dataframe tbody tr th {\n",
              "        vertical-align: top;\n",
              "    }\n",
              "\n",
              "    .dataframe thead th {\n",
              "        text-align: right;\n",
              "    }\n",
              "</style>\n",
              "<table border=\"1\" class=\"dataframe\">\n",
              "  <thead>\n",
              "    <tr style=\"text-align: right;\">\n",
              "      <th></th>\n",
              "      <th>Category</th>\n",
              "      <th>Sentences</th>\n",
              "    </tr>\n",
              "  </thead>\n",
              "  <tbody>\n",
              "    <tr>\n",
              "      <th>0</th>\n",
              "      <td>DELETION OF INTEREST</td>\n",
              "      <td>e04a09c87692 d6b72e591b91 5d066f0246f1 ed41171...</td>\n",
              "    </tr>\n",
              "    <tr>\n",
              "      <th>1</th>\n",
              "      <td>RETURNED CHECK</td>\n",
              "      <td>a3b334c6eefd be95012ebf2b 41d67080e078 ff1c26e...</td>\n",
              "    </tr>\n",
              "    <tr>\n",
              "      <th>2</th>\n",
              "      <td>BILL</td>\n",
              "      <td>586242498a88 9ccf259ca087 54709b24b45f 6bf9c0c...</td>\n",
              "    </tr>\n",
              "    <tr>\n",
              "      <th>3</th>\n",
              "      <td>BILL</td>\n",
              "      <td>cd50e861f48b 6ca2dd348663 d38820625542 f077614...</td>\n",
              "    </tr>\n",
              "    <tr>\n",
              "      <th>4</th>\n",
              "      <td>BILL</td>\n",
              "      <td>9db5536263d8 1c303d15eb65 3f89b4673455 b73e657...</td>\n",
              "    </tr>\n",
              "  </tbody>\n",
              "</table>\n",
              "</div>"
            ],
            "text/plain": [
              "               Category                                          Sentences\n",
              "0  DELETION OF INTEREST  e04a09c87692 d6b72e591b91 5d066f0246f1 ed41171...\n",
              "1        RETURNED CHECK  a3b334c6eefd be95012ebf2b 41d67080e078 ff1c26e...\n",
              "2                  BILL  586242498a88 9ccf259ca087 54709b24b45f 6bf9c0c...\n",
              "3                  BILL  cd50e861f48b 6ca2dd348663 d38820625542 f077614...\n",
              "4                  BILL  9db5536263d8 1c303d15eb65 3f89b4673455 b73e657..."
            ]
          },
          "metadata": {
            "tags": []
          }
        }
      ]
    },
    {
      "cell_type": "markdown",
      "metadata": {
        "id": "TinRfyNBmhT_",
        "colab_type": "text"
      },
      "source": [
        "#### Pre-processing the data into words and creating a new column for the length of each document"
      ]
    },
    {
      "cell_type": "code",
      "metadata": {
        "id": "9mRKm2HHhMRz",
        "colab_type": "code",
        "outputId": "a6c918c5-80e2-4185-ca37-7ba991b61abe",
        "colab": {
          "base_uri": "https://localhost:8080/",
          "height": 34
        }
      },
      "source": [
        "data['Sentences'] = data['Sentences'].astype(str)\n",
        "data['Length'] = data['Sentences'].apply(lambda x:len(x.split(' ')))\n",
        "len(data['Sentences'])"
      ],
      "execution_count": 0,
      "outputs": [
        {
          "output_type": "execute_result",
          "data": {
            "text/plain": [
              "62204"
            ]
          },
          "metadata": {
            "tags": []
          },
          "execution_count": 15
        }
      ]
    },
    {
      "cell_type": "markdown",
      "metadata": {
        "id": "ujQURCKEmtjx",
        "colab_type": "text"
      },
      "source": [
        "#### We notice that there is a huge class imbalance here and thus in order to get a good data pipeline, we either have to use undersampling/oversampling or stratified sampling on these classes. "
      ]
    },
    {
      "cell_type": "code",
      "metadata": {
        "id": "GqpHtuRehlGs",
        "colab_type": "code",
        "outputId": "7a1916c9-78f0-4c95-d9dd-a25aa55d4161",
        "colab": {
          "base_uri": "https://localhost:8080/",
          "height": 272
        }
      },
      "source": [
        "categories_count = data['Category'].value_counts()\n",
        "print(categories_count)"
      ],
      "execution_count": 0,
      "outputs": [
        {
          "output_type": "stream",
          "text": [
            "BILL                       18968\n",
            "POLICY CHANGE              10627\n",
            "CANCELLATION NOTICE         9731\n",
            "BINDER                      8973\n",
            "DELETION OF INTEREST        4826\n",
            "REINSTATEMENT NOTICE        4368\n",
            "DECLARATION                  968\n",
            "CHANGE ENDORSEMENT           889\n",
            "RETURNED CHECK               749\n",
            "EXPIRATION NOTICE            734\n",
            "NON-RENEWAL NOTICE           624\n",
            "BILL BINDER                  289\n",
            "INTENT TO CANCEL NOTICE      229\n",
            "APPLICATION                  229\n",
            "Name: Category, dtype: int64\n"
          ],
          "name": "stdout"
        }
      ]
    },
    {
      "cell_type": "code",
      "metadata": {
        "id": "TBay_qZbTTZt",
        "colab_type": "code",
        "outputId": "296d8f76-6e81-4760-828b-3660160390c4",
        "colab": {
          "base_uri": "https://localhost:8080/",
          "height": 414
        }
      },
      "source": [
        "plt.figure(figsize=(12,4))\n",
        "g = sns.barplot(categories_count.index, categories_count.values,palette=\"deep\", alpha=1)\n",
        "plt.ylabel('Frequency', fontsize=18)\n",
        "plt.xlabel('Category', fontsize=18)\n",
        "plt.xticks(rotation=90)\n",
        "\n",
        "plt.show()"
      ],
      "execution_count": 0,
      "outputs": [
        {
          "output_type": "display_data",
          "data": {
            "image/png": "[encoded data removed]",
            "text/plain": [
              "<Figure size 864x288 with 1 Axes>"
            ]
          },
          "metadata": {
            "tags": []
          }
        }
      ]
    },
    {
      "cell_type": "markdown",
      "metadata": {
        "id": "0-Ci0zhRW436",
        "colab_type": "text"
      },
      "source": [
        "# Histogram analysis of the text lenght of each categories."
      ]
    },
    {
      "cell_type": "markdown",
      "metadata": {
        "id": "zcw9W8btXHC3",
        "colab_type": "text"
      },
      "source": [
        "Applying the function to each sample"
      ]
    },
    {
      "cell_type": "code",
      "metadata": {
        "id": "7giYmDRRXWlR",
        "colab_type": "code",
        "outputId": "e85db75d-b66d-4008-9ed1-7e0ce4d0b1eb",
        "colab": {
          "base_uri": "https://localhost:8080/",
          "height": 359
        }
      },
      "source": [
        "data.head(10)"
      ],
      "execution_count": 0,
      "outputs": [
        {
          "output_type": "execute_result",
          "data": {
            "text/html": [
              "<div>\n",
              "<style scoped>\n",
              "    .dataframe tbody tr th:only-of-type {\n",
              "        vertical-align: middle;\n",
              "    }\n",
              "\n",
              "    .dataframe tbody tr th {\n",
              "        vertical-align: top;\n",
              "    }\n",
              "\n",
              "    .dataframe thead th {\n",
              "        text-align: right;\n",
              "    }\n",
              "</style>\n",
              "<table border=\"1\" class=\"dataframe\">\n",
              "  <thead>\n",
              "    <tr style=\"text-align: right;\">\n",
              "      <th></th>\n",
              "      <th>Category</th>\n",
              "      <th>Sentences</th>\n",
              "      <th>Length</th>\n",
              "    </tr>\n",
              "  </thead>\n",
              "  <tbody>\n",
              "    <tr>\n",
              "      <th>0</th>\n",
              "      <td>DELETION OF INTEREST</td>\n",
              "      <td>e04a09c87692 d6b72e591b91 5d066f0246f1 ed41171...</td>\n",
              "      <td>465</td>\n",
              "    </tr>\n",
              "    <tr>\n",
              "      <th>1</th>\n",
              "      <td>RETURNED CHECK</td>\n",
              "      <td>a3b334c6eefd be95012ebf2b 41d67080e078 ff1c26e...</td>\n",
              "      <td>403</td>\n",
              "    </tr>\n",
              "    <tr>\n",
              "      <th>2</th>\n",
              "      <td>BILL</td>\n",
              "      <td>586242498a88 9ccf259ca087 54709b24b45f 6bf9c0c...</td>\n",
              "      <td>185</td>\n",
              "    </tr>\n",
              "    <tr>\n",
              "      <th>3</th>\n",
              "      <td>BILL</td>\n",
              "      <td>cd50e861f48b 6ca2dd348663 d38820625542 f077614...</td>\n",
              "      <td>337</td>\n",
              "    </tr>\n",
              "    <tr>\n",
              "      <th>4</th>\n",
              "      <td>BILL</td>\n",
              "      <td>9db5536263d8 1c303d15eb65 3f89b4673455 b73e657...</td>\n",
              "      <td>546</td>\n",
              "    </tr>\n",
              "    <tr>\n",
              "      <th>5</th>\n",
              "      <td>POLICY CHANGE</td>\n",
              "      <td>10e45001c2f2 6a01047db3ab 6a8e3499dab9 97b6014...</td>\n",
              "      <td>536</td>\n",
              "    </tr>\n",
              "    <tr>\n",
              "      <th>6</th>\n",
              "      <td>POLICY CHANGE</td>\n",
              "      <td>4e5019f629a9 54fb196d55ce 0cf4049f1c7c ef4ea27...</td>\n",
              "      <td>1059</td>\n",
              "    </tr>\n",
              "    <tr>\n",
              "      <th>7</th>\n",
              "      <td>BILL</td>\n",
              "      <td>ad4440ac97a5 8e93a2273a93 c913f5129fe2 bfb030c...</td>\n",
              "      <td>579</td>\n",
              "    </tr>\n",
              "    <tr>\n",
              "      <th>8</th>\n",
              "      <td>CANCELLATION NOTICE</td>\n",
              "      <td>25c57acdf805 b7a0f56f6ce8 cf4fc632eed2 67f9c02...</td>\n",
              "      <td>248</td>\n",
              "    </tr>\n",
              "    <tr>\n",
              "      <th>9</th>\n",
              "      <td>BILL</td>\n",
              "      <td>48d657cd9861 fee60001e67a 4ce4bfb42e22 de9738e...</td>\n",
              "      <td>574</td>\n",
              "    </tr>\n",
              "  </tbody>\n",
              "</table>\n",
              "</div>"
            ],
            "text/plain": [
              "               Category  ... Length\n",
              "0  DELETION OF INTEREST  ...    465\n",
              "1        RETURNED CHECK  ...    403\n",
              "2                  BILL  ...    185\n",
              "3                  BILL  ...    337\n",
              "4                  BILL  ...    546\n",
              "5         POLICY CHANGE  ...    536\n",
              "6         POLICY CHANGE  ...   1059\n",
              "7                  BILL  ...    579\n",
              "8   CANCELLATION NOTICE  ...    248\n",
              "9                  BILL  ...    574\n",
              "\n",
              "[10 rows x 3 columns]"
            ]
          },
          "metadata": {
            "tags": []
          },
          "execution_count": 9
        }
      ]
    },
    {
      "cell_type": "markdown",
      "metadata": {
        "id": "QFz4zW-dnCOX",
        "colab_type": "text"
      },
      "source": [
        "#### We try to analyse the length distribution of each of the documents and categorize them based on the categories. They all fall around a course normal distribution for each of the categories."
      ]
    },
    {
      "cell_type": "code",
      "metadata": {
        "id": "3XhaFCUvZADD",
        "colab_type": "code",
        "colab": {}
      },
      "source": [
        "BILL\t = data[data['Category'] == 'BILL']\n",
        "POLICY_CHANGE\t = data[data['Category'] == 'POLICY CHANGE']\n",
        "CANCELLATION_NOTICE\t = data[data['Category'] == 'CANCELLATION NOTICE']\n",
        "BINDER\t = data[data['Category'] == 'BINDER']\n",
        "DELETION_OF_INTEREST\t = data[data['Category'] == 'DELETION OF INTEREST']\n",
        "REINSTATEMENT_NOTICE\t = data[data['Category'] == 'REINSTATEMENT NOTICE']\n",
        "DECLARATION\t = data[data['Category'] == 'DECLARATION']\n",
        "CHANGE_ENDORSEMENT\t = data[data['Category'] == 'CHANGE ENDORSEMENT']\n",
        "RETURNED_CHECK\t = data[data['Category'] == 'RETURNED CHECK']\n",
        "EXPIRATION_NOTICE\t = data[data['Category'] == 'EXPIRATION_NOTICE']\n",
        "NON_RENEWAL_NOTICE \t = data[data['Category'] == 'NON-RENEWAL NOTICE']\n",
        "BILL_BINDER\t = data[data['Category'] == 'BILL BINDER']\n",
        "APPLICATION\t = data[data['Category'] == 'APPLICATION']\n",
        "INTENT_TO_CANCEL_NOTICE\t = data[data['Category'] == 'INTENT TO CANCEL NOTICE']"
      ],
      "execution_count": 0,
      "outputs": []
    },
    {
      "cell_type": "code",
      "metadata": {
        "id": "Q4Meze1BXNUo",
        "colab_type": "code",
        "outputId": "813d6636-39a7-49db-c23f-5461e172e85c",
        "colab": {
          "base_uri": "https://localhost:8080/",
          "height": 388
        }
      },
      "source": [
        "plt.rcParams['figure.figsize'] = (12.0, 6.0)\n",
        "bins = 200\n",
        "plt.hist(BILL['Length'], alpha = 1.0, bins=bins, label='BILL')\n",
        "plt.hist(POLICY_CHANGE['Length'], alpha = 0.8, bins=bins, label='POLICY_CHANGE')\n",
        "plt.hist(CANCELLATION_NOTICE['Length'], alpha = 0.6, bins=bins, label='CANCELLATION_NOTICE')\n",
        "plt.hist(BINDER['Length'], alpha = 0.5, bins=bins, label='BINDER')\n",
        "plt.hist(DELETION_OF_INTEREST['Length'], alpha = 0.4, bins=bins, label='DELETION_OF_INTEREST')\n",
        "plt.hist(REINSTATEMENT_NOTICE['Length'], alpha = 0.4, bins=bins, label='REINSTATEMENT_NOTICE')\n",
        "plt.hist(CHANGE_ENDORSEMENT['Length'], alpha = 0.4, bins=bins, label='CHANGE_ENDORSEMENT')\n",
        "\n",
        "plt.xlabel('Length')\n",
        "plt.ylabel('Count')\n",
        "plt.legend(loc='upper right')\n",
        "plt.xlim(0,1000)\n",
        "plt.grid()\n",
        "plt.show()"
      ],
      "execution_count": 0,
      "outputs": [
        {
          "output_type": "display_data",
          "data": {
            "image/png": "[encoded data removed]",
            "text/plain": [
              "<Figure size 864x432 with 1 Axes>"
            ]
          },
          "metadata": {
            "tags": []
          }
        }
      ]
    },
    {
      "cell_type": "code",
      "metadata": {
        "id": "KJyV9plSaLvM",
        "colab_type": "code",
        "outputId": "93839b87-4506-4848-f17e-a8a0894aa162",
        "colab": {
          "base_uri": "https://localhost:8080/",
          "height": 388
        }
      },
      "source": [
        "plt.rcParams['figure.figsize'] = (12.0, 6.0)\n",
        "bins = 100\n",
        "plt.hist(DECLARATION['Length'], alpha = 0.8, bins=bins, label='DECLARATION')\n",
        "plt.hist(RETURNED_CHECK['Length'], alpha = 0.8, bins=bins, label='RETURNED_CHECK')\n",
        "plt.hist(EXPIRATION_NOTICE['Length'], alpha = 0.7, bins=bins, label='EXPIRATION_NOTICE')\n",
        "plt.hist(NON_RENEWAL_NOTICE['Length'], alpha = 0.6, bins=bins, label='NON_RENEWAL_NOTICE')\n",
        "plt.hist(BILL_BINDER['Length'], alpha = 0.5, bins=bins, label='BILL_BINDER')\n",
        "plt.hist(APPLICATION['Length'], alpha = 0.5, bins=bins, label='APPLICATION')\n",
        "plt.hist(INTENT_TO_CANCEL_NOTICE['Length'], alpha = 0.5, bins=bins, label='INTENT_TO_CANCEL_NOTICE')\n",
        "\n",
        "plt.xlabel('Length')\n",
        "plt.ylabel('Count')\n",
        "plt.legend(loc='upper right')\n",
        "plt.xlim(0,1000)\n",
        "plt.grid()\n",
        "plt.show()"
      ],
      "execution_count": 0,
      "outputs": [
        {
          "output_type": "display_data",
          "data": {
            "image/png": "[encoded data removed]",
            "text/plain": [
              "<Figure size 864x432 with 1 Axes>"
            ]
          },
          "metadata": {
            "tags": []
          }
        }
      ]
    },
    {
      "cell_type": "markdown",
      "metadata": {
        "id": "TEwbCSUSnTqN",
        "colab_type": "text"
      },
      "source": [
        "##### We will filter out terms that are very common(present in more than 40% of documents) or scarce and then find the term frquency and document frequency vectorizer. Another option is to use Word2Vec and train the entire model but since the amount of data isn't that much and the number of unique word is quite high, maybe doing TDIDF is a good idea. "
      ]
    },
    {
      "cell_type": "code",
      "metadata": {
        "id": "0dwb9e1fbzvP",
        "colab_type": "code",
        "colab": {}
      },
      "source": [
        "tfidf = TfidfVectorizer(binary=False,decode_error='ignore',sublinear_tf=True, max_df = 0.40, min_df = 0.005, norm='l2',ngram_range=(1, 2))"
      ],
      "execution_count": 0,
      "outputs": []
    },
    {
      "cell_type": "code",
      "metadata": {
        "id": "de7a5eBbdghe",
        "colab_type": "code",
        "outputId": "35414260-7fba-4829-d895-ace637cfd68a",
        "colab": {
          "base_uri": "https://localhost:8080/",
          "height": 34
        }
      },
      "source": [
        "features = tfidf.fit_transform(data['Sentences'].values).toarray()\n",
        "import pickle\n",
        "#store the content \n",
        "# Not necessary since we are saving the entire pipeline later on\n",
        "with open(\"tfidf_2.pkl\", 'wb') as handle:\n",
        "                    pickle.dump(tfidf, handle)\n",
        "all_categories = np.unique(data['Category'])\n",
        "features.shape"
      ],
      "execution_count": 0,
      "outputs": [
        {
          "output_type": "execute_result",
          "data": {
            "text/plain": [
              "(62204, 7787)"
            ]
          },
          "metadata": {
            "tags": []
          },
          "execution_count": 38
        }
      ]
    },
    {
      "cell_type": "code",
      "metadata": {
        "id": "KahyPWjlnZsx",
        "colab_type": "code",
        "outputId": "2f129f01-e3f0-4db1-818a-7a866a385520",
        "colab": {
          "base_uri": "https://localhost:8080/",
          "height": 71
        }
      },
      "source": [
        "data['Sentences'].head(1).values"
      ],
      "execution_count": 0,
      "outputs": [
        {
          "output_type": "execute_result",
          "data": {
            "text/plain": [
              "array(['e04a09c87692 d6b72e591b91 5d066f0246f1 ed41171e2e6d 59260a2781dc ec56ff31bb7a 1cf70e99f986 7d7400d32c11 fbe7c05e32d5 6b0cb5728b14 54709b24b45f 25c57acdf805 8bd6e6f02cbc 31cbd98f4b3c f7548baf29d4 bd0972f16400 1b43925e3c28 b2c878a75d7e 59260a2781dc cf4fc632eed2 25c57acdf805 b4221b1edff9 de9738ee8b24 135307dba198 19e9f3592995 1cf70e99f986 266dc1fd820c b73e657498f2 f1ec22325b37 1fa87d60c46c e4a319284bf9 6b343f522f78 60fb2adbbb87 37428698b32e d03283541bce 59f0408bc81b 9ccf259ca087 54709b24b45f 8bd6e6f02cbc 63198bea516d 7991590bf0b6 2575240863a4 b5ed9af384f4 87b8193a0183 3e5199ae28ae 094e2de7e1cd 422068f04236 25c57acdf805 179dce4734b4 d38820625542 7cd2e94152fb f1413affa34b 288ccf089872 3eba94383fac e1af6790122f f36858486ddc ec3406979928 cff184767152 da9ad7407226 0c222c6660f2 586242498a88 d1c3631d621b 323c2f20cf45 25c57acdf805 2190972b219c f2b0e028fe2c da61efdd2b77 9cdf4a63deb0 6a95ce91efbd 432bd6e0c08f 6b343f522f78 8c05761f94b8 b7ab56536ec4 afb1e3806fc1 c0d455ef7403 cafaf222091d 7cd2e94152fb 9974e72c1e3d 586242498a88 ffe8decfd82e d38820625542 4e5019f629a9 7cd2e94152fb 179dce4734b4 586242498a88 86f5abd0f322 2de82c64620a da9ad7407226 d38820625542 133d46f7ed38 da61efdd2b77 af671fbeb212 d4bec079d88a 7d9e333a86da cafaf222091d 7cd2e94152fb 7c0d350ba703 d38820625542 7cd2e94152fb bce2a87e8f26 4e5019f629a9 c337a85b8ef9 e04a09c87692 4ad52689d690 6b304aabdcee ce1f034abb5d 28bb12cc84c2 9f11111004ec eeb86a6a04e4 f9b20c280980 93a5aefea103 083656409314 eaa9c2339ac6 8b6c5bb157a9 fc9ae3c91204 7ec02e30a5b3 44ff8f74af45 33fb7d5700b3 7d9e333a86da 3e24b036118a 479e6e2b5afc 3cd4957ae1e5 52102c70348d 36e7aa72ffe1 c337a85b8ef9 cafaf222091d b9699ce57810 e7cd8a78bd1c 1015893e384a 586242498a88 b208ae1e8232 0992140a4618 30025054f25c 1015893e384a 8b6c5bb157a9 fc9ae3c91204 7ec02e30a5b3 44ff8f74af45 33fb7d5700b3 d19e3740b9f4 fb8ac3af8dce 1f72b4630c4a 6bf9c0cb01b4 e94953618947 c337a85b8ef9 083656409314 eaa9c2339ac6 b2bf1b3a363b 21300e217202 2979f8b5c8c4 557ec6c63cf9 b9e341c696e7 4e43b72d46c0 816a114f1b9a 02db3d3134b6 e76a3d82e892 8f75273e5510 43565b1afa44 1807f8910862 2ed97f462806 c8f5ad40a683 f0fd45d01d0a dec88250479b 0302af775b89 cafaf222091d 6c14785745cb 8b6c5bb157a9 e9849b397690 c33578d25a0d 46142e2508e4 036087ac04f9 b136f6349cf3 dee46d35626e d38820625542 8f75273e5510 43565b1afa44 bad6ff5dd7bc 420691c4fc64 2de82c64620a b9699ce57810 cafaf222091d 4e9eb063e763 dee46d35626e 232d63889bcf 056314258a60 d1c45a16f923 d38820625542 8f75273e5510 43565b1afa44 4e5019f629a9 dec88250479b cafaf222091d cafaf222091d f52871480463 6d1fb90988cf 7cd2e94152fb 8b6c5bb157a9 d4e08985be1b e9849b397690 816a114f1b9a 4e43b72d46c0 b9e341c696e7 02db3d3134b6 9ad186d42f69 036087ac04f9 cafaf222091d b136f6349cf3 c33578d25a0d 46142e2508e4 2979f8b5c8c4 21300e217202 b2bf1b3a363b c8f5ad40a683 557ec6c63cf9 586242498a88 cde4f1b2a877 ec56ff31bb7a d38820625542 7cd2e94152fb 25c57acdf805 d572dc50fdd4 133d46f7ed38 4e5019f629a9 8f67fb7907c9 a86f2ba617ec c75cfd6fc902 a6cada1d2f54 f898dba78476 da61efdd2b77 586242498a88 a98f06677951 8b6c5bb157a9 02db3d3134b6 78ef61730b15 7cd2e94152fb d38820625542 586242498a88 7cd2e94152fb f52871480463 b136f6349cf3 036087ac04f9 46142e2508e4 c33578d25a0d e9849b397690 d38820625542 dee46d35626e 2979f8b5c8c4 21300e217202 b2bf1b3a363b 557ec6c63cf9 036087ac04f9 75440bb763a2 816a114f1b9a 4e43b72d46c0 b9e341c696e7 a31962fbd5f3 4357c81e10c1 93790ade6682 61b7e0f00ffe 8f75273e5510 43565b1afa44 9cdf4a63deb0 6ca2dd348663 2ef7c27a5df4 b136f6349cf3 0f88ca127938 57962002319d e0e86b8f64e1 8b6c5bb157a9 3102eeb23202 b274cd8dd187 c3d9d343468b 7464df526d87 5079f87b7bd6 cbd6e2e7a804 9bfc4c4973a6 8f75273e5510 43565b1afa44 1807f8910862 b77b531ae299 743b314e5665 d38820625542 7cd2e94152fb 3cd4957ae1e5 8754554be158 7cd2e94152fb dee46d35626e 010bdb69ff0a c337a85b8ef9 4ad52689d690 ce1f034abb5d 28bb12cc84c2 9f11111004ec f9b20c280980 d38820625542 6a95ce91efbd 816a114f1b9a 4e43b72d46c0 b9e341c696e7 62a9fc81b3e8 7cd2e94152fb d38820625542 586242498a88 54709b24b45f 1ab34730c1e0 2b2acdf4a3ed 65fa97636e09 1b398b5b9d07 8db69e29b4cf 1c303d15eb65 76957326a333 6fbb21936a35 e8d2105b441f 89aea207f9e3 6121e3c3fa4d 3cd4957ae1e5 918d14133622 421e52f8278f be20e2fc1f33 a86f2ba617ec 0562c756a2f2 431392fb12c7 1b6d0614f2c7 b208ae1e8232 4a0084089b01 4b47049a7fd1 572b3238a2c4 5c02c2aaa67b 628863dfcdcd 6c8642055a4e f0fd45d01d0a 572b3238a2c4 da2e1b058e4b ffca4a0468c8 eeb86a6a04e4 572b3238a2c4 fe64d3cdfe5b da2e1b058e4b 1c303d15eb65 2c33750c1d59 ed1e3242ee34 2a6fbe672600 69056c5109b2 572b3238a2c4 9da09997e84d 97b6014f9e50 628863dfcdcd 93790ade6682 61b7e0f00ffe 4357c81e10c1 4e5019f629a9 a31962fbd5f3 26f7353edc2e 9b002bb8ea70 0056a542a568 d38820625542 9f11111004ec f9b20c280980 c337a85b8ef9 4ad52689d690 5ee06767bc0f 75440bb763a2 1ab34730c1e0 036087ac04f9 6b343f522f78 b136f6349cf3 2ef7c27a5df4 6ca2dd348663 a1e5904d04f5 d38820625542 3d50cd6a0f95 5ee06767bc0f 2b2acdf4a3ed 7d41ca882f26 b9f6c678fbb0 af3bfda79f9d 6ce6cc5a3203 798fe9915030 0f408aaf2b1c cfefa92a643c 1015893e384a ce1f034abb5d 28bb12cc84c2 67f9c02008c6 586242498a88 586242498a88 6685a4a0c6a4 2094595088dd ad062bd785fb 8b6c5bb157a9 1015893e384a 8288c343e374 5e99d31d8fa4 c33578d25a0d b9f6c678fbb0 3d478e13c895 af3bfda79f9d 2094595088dd 9b002bb8ea70 036087ac04f9 0056a542a568 2bcce4e05d9d f700adeb40f0 f700adeb40f0 392ef61e1c96 392ef61e1c96 60304c03969f f0666bdbc8a5 6ce6cc5a3203 586242498a88 6a01047db3ab 2685f0879380 2a6fbe672600 e828da93d525 cb7631b88e51 580a08f5c8b9 45e16cbae38f 1015893e384a 094453b4e4ae 586242498a88 b73e657498f2 6ca2dd348663 d38820625542 9b002bb8ea70 0056a542a568 8f75273e5510 93790ade6682 61b7e0f00ffe 4357c81e10c1 a31962fbd5f3 75440bb763a2 036087ac04f9 b136f6349cf3 2ef7c27a5df4 a1e5904d04f5 3d50cd6a0f95 2b2acdf4a3ed 6b304aabdcee 6b304aabdcee 6b304aabdcee 30576f6a6e96 6b304aabdcee f8931fcd9bd6 f8931fcd9bd6 f8931fcd9bd6 4d9284df2a3f 6b304aabdcee c1b3166ecf3b 6b304aabdcee 6b304aabdcee b9a670c30df5 41a0ee0cf31a c87d29676bd1 4faebb8051b2 22d6fd31d92b e3d61318ef03 036087ac04f9 2bcce4e05d9d 010bdb69ff0a 44d3870bca21 4e5019f629a9 586242498a88 6ca2dd348663 b208ae1e8232 04503bc22789'],\n",
              "      dtype=object)"
            ]
          },
          "metadata": {
            "tags": []
          },
          "execution_count": 41
        }
      ]
    },
    {
      "cell_type": "markdown",
      "metadata": {
        "id": "6QUjeKN3oTug",
        "colab_type": "text"
      },
      "source": [
        "#### We can find the highest correlated 1-grams and 2-grams for each of the categories. It seems like there are is a difference between each of the categories and thus the data definitely can be learned by a model."
      ]
    },
    {
      "cell_type": "code",
      "metadata": {
        "id": "DHbxBvNw7LJK",
        "colab_type": "code",
        "outputId": "1ee21b6d-5458-420d-a19e-ece3b749b1b7",
        "colab": {
          "base_uri": "https://localhost:8080/",
          "height": 483
        }
      },
      "source": [
        "categories = []\n",
        "most_corelated_unigrams = []\n",
        "most_corelated_bigrams = []\n",
        "for category_id in all_categories:\n",
        "    features_chi2 = chi2(features, data['Category'] == category_id)\n",
        "    indices = np.argsort(features_chi2[0])\n",
        "    feature_names = np.array(tfidf.get_feature_names())[indices]\n",
        "    unigrams = [v for v in feature_names if len(v.split(' ')) == 1]\n",
        "    bigrams = [v for v in feature_names if len(v.split(' ')) == 2]\n",
        "    categories.append(category_id)\n",
        "    most_corelated_unigrams.append(unigrams[-2:])\n",
        "    most_corelated_bigrams.append(bigrams[-2:])\n",
        "\n",
        "pd.DataFrame({'Category' : categories, 'Most correlated unigrams' : most_corelated_unigrams, \n",
        "              'Most correlated bigrams' : most_corelated_bigrams})"
      ],
      "execution_count": 0,
      "outputs": [
        {
          "output_type": "execute_result",
          "data": {
            "text/html": [
              "<div>\n",
              "<style scoped>\n",
              "    .dataframe tbody tr th:only-of-type {\n",
              "        vertical-align: middle;\n",
              "    }\n",
              "\n",
              "    .dataframe tbody tr th {\n",
              "        vertical-align: top;\n",
              "    }\n",
              "\n",
              "    .dataframe thead th {\n",
              "        text-align: right;\n",
              "    }\n",
              "</style>\n",
              "<table border=\"1\" class=\"dataframe\">\n",
              "  <thead>\n",
              "    <tr style=\"text-align: right;\">\n",
              "      <th></th>\n",
              "      <th>Category</th>\n",
              "      <th>Most corelated unigrams</th>\n",
              "      <th>Most corelated bigrams</th>\n",
              "    </tr>\n",
              "  </thead>\n",
              "  <tbody>\n",
              "    <tr>\n",
              "      <th>0</th>\n",
              "      <td>APPLICATION</td>\n",
              "      <td>[4298762de22f, 823d2be57c98]</td>\n",
              "      <td>[1fe62f2b2bff 9de56cbee28f, 586242498a88 befbf...</td>\n",
              "    </tr>\n",
              "    <tr>\n",
              "      <th>1</th>\n",
              "      <td>BILL</td>\n",
              "      <td>[de9738ee8b24, d19b1c129f40]</td>\n",
              "      <td>[f95d0bea231b 21e314d3afcc, b9699ce57810 64135...</td>\n",
              "    </tr>\n",
              "    <tr>\n",
              "      <th>2</th>\n",
              "      <td>BILL BINDER</td>\n",
              "      <td>[93e786b92f57, 28b12e45914e]</td>\n",
              "      <td>[f52671c3d5de f7ae6f8257da, 8871e31e57e2 133d4...</td>\n",
              "    </tr>\n",
              "    <tr>\n",
              "      <th>3</th>\n",
              "      <td>BINDER</td>\n",
              "      <td>[388cbcf48919, d8535c18626a]</td>\n",
              "      <td>[6b343f522f78 d8535c18626a, d8535c18626a d3882...</td>\n",
              "    </tr>\n",
              "    <tr>\n",
              "      <th>4</th>\n",
              "      <td>CANCELLATION NOTICE</td>\n",
              "      <td>[6c8642055a4e, 79f872a2e298]</td>\n",
              "      <td>[b9699ce57810 98d0d51b397c, 98d0d51b397c eeb86...</td>\n",
              "    </tr>\n",
              "    <tr>\n",
              "      <th>5</th>\n",
              "      <td>CHANGE ENDORSEMENT</td>\n",
              "      <td>[1a46ce1e6826, 29b62a6f238b]</td>\n",
              "      <td>[458fb753e194 4e7b1501a15b, e616d3a38f90 29b62...</td>\n",
              "    </tr>\n",
              "    <tr>\n",
              "      <th>6</th>\n",
              "      <td>DECLARATION</td>\n",
              "      <td>[f36858486ddc, cb1d078417bf]</td>\n",
              "      <td>[4e5019f629a9 10e45001c2f2, 2e85d01c5d75 f3685...</td>\n",
              "    </tr>\n",
              "    <tr>\n",
              "      <th>7</th>\n",
              "      <td>DELETION OF INTEREST</td>\n",
              "      <td>[6b223a390d86, d774c0d219f8]</td>\n",
              "      <td>[ba02159e05b1 892d541c89eb, 6b223a390d86 6ce6c...</td>\n",
              "    </tr>\n",
              "    <tr>\n",
              "      <th>8</th>\n",
              "      <td>EXPIRATION NOTICE</td>\n",
              "      <td>[0e60c8ecc79d, 3bfb91f64987]</td>\n",
              "      <td>[d38820625542 327f094890d6, eeb86a6a04e4 5d764...</td>\n",
              "    </tr>\n",
              "    <tr>\n",
              "      <th>9</th>\n",
              "      <td>INTENT TO CANCEL NOTICE</td>\n",
              "      <td>[33233524b7cd, 66b4e66655f9]</td>\n",
              "      <td>[eeb86a6a04e4 4e5019f629a9, 422068f04236 5f43e...</td>\n",
              "    </tr>\n",
              "    <tr>\n",
              "      <th>10</th>\n",
              "      <td>NON-RENEWAL NOTICE</td>\n",
              "      <td>[e464def41f5c, 8c8e77081f2f]</td>\n",
              "      <td>[e1e52eebfc13 65f888439937, cdee33987473 b814d...</td>\n",
              "    </tr>\n",
              "    <tr>\n",
              "      <th>11</th>\n",
              "      <td>POLICY CHANGE</td>\n",
              "      <td>[73d8f0e46834, 557ec6c63cf9]</td>\n",
              "      <td>[8754554be158 d38820625542, 69e10bcd0d9a c36b0...</td>\n",
              "    </tr>\n",
              "    <tr>\n",
              "      <th>12</th>\n",
              "      <td>REINSTATEMENT NOTICE</td>\n",
              "      <td>[3bf369e20c6d, f77ad3479ff2]</td>\n",
              "      <td>[c79b01c5629d 2fa4ceb0088d, eeb86a6a04e4 f77ad...</td>\n",
              "    </tr>\n",
              "    <tr>\n",
              "      <th>13</th>\n",
              "      <td>RETURNED CHECK</td>\n",
              "      <td>[73e4aef1d1ff, 7ea8b035f295]</td>\n",
              "      <td>[b9699ce57810 de9738ee8b24, eb562127f33e c0ed5...</td>\n",
              "    </tr>\n",
              "  </tbody>\n",
              "</table>\n",
              "</div>"
            ],
            "text/plain": [
              "                   Category  ...                             Most corelated bigrams\n",
              "0               APPLICATION  ...  [1fe62f2b2bff 9de56cbee28f, 586242498a88 befbf...\n",
              "1                      BILL  ...  [f95d0bea231b 21e314d3afcc, b9699ce57810 64135...\n",
              "2               BILL BINDER  ...  [f52671c3d5de f7ae6f8257da, 8871e31e57e2 133d4...\n",
              "3                    BINDER  ...  [6b343f522f78 d8535c18626a, d8535c18626a d3882...\n",
              "4       CANCELLATION NOTICE  ...  [b9699ce57810 98d0d51b397c, 98d0d51b397c eeb86...\n",
              "5        CHANGE ENDORSEMENT  ...  [458fb753e194 4e7b1501a15b, e616d3a38f90 29b62...\n",
              "6               DECLARATION  ...  [4e5019f629a9 10e45001c2f2, 2e85d01c5d75 f3685...\n",
              "7      DELETION OF INTEREST  ...  [ba02159e05b1 892d541c89eb, 6b223a390d86 6ce6c...\n",
              "8         EXPIRATION NOTICE  ...  [d38820625542 327f094890d6, eeb86a6a04e4 5d764...\n",
              "9   INTENT TO CANCEL NOTICE  ...  [eeb86a6a04e4 4e5019f629a9, 422068f04236 5f43e...\n",
              "10       NON-RENEWAL NOTICE  ...  [e1e52eebfc13 65f888439937, cdee33987473 b814d...\n",
              "11            POLICY CHANGE  ...  [8754554be158 d38820625542, 69e10bcd0d9a c36b0...\n",
              "12     REINSTATEMENT NOTICE  ...  [c79b01c5629d 2fa4ceb0088d, eeb86a6a04e4 f77ad...\n",
              "13           RETURNED CHECK  ...  [b9699ce57810 de9738ee8b24, eb562127f33e c0ed5...\n",
              "\n",
              "[14 rows x 3 columns]"
            ]
          },
          "metadata": {
            "tags": []
          },
          "execution_count": 23
        }
      ]
    },
    {
      "cell_type": "markdown",
      "metadata": {
        "id": "us-bJcmhozwt",
        "colab_type": "text"
      },
      "source": [
        "#### We shall try testing a few models. We started with RandomForest, Linear SVM and LogisticRegression. I also tried XGBoost, but it was taking too many iterations before reaching a good accuracy and thus in the final version I have skipped it. \n",
        "#### For each of the model, we do a 5 Fold crossvaliedation. Apart from that, because of the class imbalance, we require stratification, fortunately, this happens internally in the cross_val_score, and thus we don't need to worry about it.\n",
        "#### Instead of using accuracy as a metric, we use f1-micro. F1-Micro in particular because the final score of f1-micro, unless regular f-1 score is a cumulation of all the classes, thus the score isn't biased towards one class."
      ]
    },
    {
      "cell_type": "code",
      "metadata": {
        "id": "Pm6x8QBfg3Ui",
        "colab_type": "code",
        "outputId": "cede54f1-d149-42eb-e0a5-653853b43994",
        "colab": {
          "base_uri": "https://localhost:8080/",
          "height": 697
        }
      },
      "source": [
        "# We will try a few models\n",
        "\n",
        "\n",
        "models = [\n",
        "    RandomForestClassifier(),\n",
        "    LinearSVC(),\n",
        "    LogisticRegression(random_state=0)\n",
        "]\n",
        "\n",
        "# 5 fold cross validation\n",
        "CV = 5\n",
        "\n",
        "entries = []\n",
        "for model in models:\n",
        "    model_name = model.__class__.__name__\n",
        "    accuracies = cross_val_score(model, features, data['Category'], scoring='f1_micro', cv=CV)\n",
        "    for fold_idx, accuracy in enumerate(accuracies):\n",
        "        entries.append((model_name, fold_idx, accuracy))\n",
        "        \n",
        "cv_df = pd.DataFrame(entries, columns=['model_name', 'fold_idx', 'f1_micro'])"
      ],
      "execution_count": 0,
      "outputs": [
        {
          "output_type": "stream",
          "text": [
            "/usr/local/lib/python3.6/dist-packages/sklearn/linear_model/_logistic.py:940: ConvergenceWarning: lbfgs failed to converge (status=1):\n",
            "STOP: TOTAL NO. of ITERATIONS REACHED LIMIT.\n",
            "\n",
            "Increase the number of iterations (max_iter) or scale the data as shown in:\n",
            "    https://scikit-learn.org/stable/modules/preprocessing.html\n",
            "Please also refer to the documentation for alternative solver options:\n",
            "    https://scikit-learn.org/stable/modules/linear_model.html#logistic-regression\n",
            "  extra_warning_msg=_LOGISTIC_SOLVER_CONVERGENCE_MSG)\n",
            "/usr/local/lib/python3.6/dist-packages/sklearn/linear_model/_logistic.py:940: ConvergenceWarning: lbfgs failed to converge (status=1):\n",
            "STOP: TOTAL NO. of ITERATIONS REACHED LIMIT.\n",
            "\n",
            "Increase the number of iterations (max_iter) or scale the data as shown in:\n",
            "    https://scikit-learn.org/stable/modules/preprocessing.html\n",
            "Please also refer to the documentation for alternative solver options:\n",
            "    https://scikit-learn.org/stable/modules/linear_model.html#logistic-regression\n",
            "  extra_warning_msg=_LOGISTIC_SOLVER_CONVERGENCE_MSG)\n",
            "/usr/local/lib/python3.6/dist-packages/sklearn/linear_model/_logistic.py:940: ConvergenceWarning: lbfgs failed to converge (status=1):\n",
            "STOP: TOTAL NO. of ITERATIONS REACHED LIMIT.\n",
            "\n",
            "Increase the number of iterations (max_iter) or scale the data as shown in:\n",
            "    https://scikit-learn.org/stable/modules/preprocessing.html\n",
            "Please also refer to the documentation for alternative solver options:\n",
            "    https://scikit-learn.org/stable/modules/linear_model.html#logistic-regression\n",
            "  extra_warning_msg=_LOGISTIC_SOLVER_CONVERGENCE_MSG)\n",
            "/usr/local/lib/python3.6/dist-packages/sklearn/linear_model/_logistic.py:940: ConvergenceWarning: lbfgs failed to converge (status=1):\n",
            "STOP: TOTAL NO. of ITERATIONS REACHED LIMIT.\n",
            "\n",
            "Increase the number of iterations (max_iter) or scale the data as shown in:\n",
            "    https://scikit-learn.org/stable/modules/preprocessing.html\n",
            "Please also refer to the documentation for alternative solver options:\n",
            "    https://scikit-learn.org/stable/modules/linear_model.html#logistic-regression\n",
            "  extra_warning_msg=_LOGISTIC_SOLVER_CONVERGENCE_MSG)\n",
            "/usr/local/lib/python3.6/dist-packages/sklearn/linear_model/_logistic.py:940: ConvergenceWarning: lbfgs failed to converge (status=1):\n",
            "STOP: TOTAL NO. of ITERATIONS REACHED LIMIT.\n",
            "\n",
            "Increase the number of iterations (max_iter) or scale the data as shown in:\n",
            "    https://scikit-learn.org/stable/modules/preprocessing.html\n",
            "Please also refer to the documentation for alternative solver options:\n",
            "    https://scikit-learn.org/stable/modules/linear_model.html#logistic-regression\n",
            "  extra_warning_msg=_LOGISTIC_SOLVER_CONVERGENCE_MSG)\n"
          ],
          "name": "stderr"
        }
      ]
    },
    {
      "cell_type": "code",
      "metadata": {
        "id": "y78f0au_syGY",
        "colab_type": "code",
        "outputId": "fd0e5baa-6c8d-4cdf-d69e-4a69e383c404",
        "colab": {
          "base_uri": "https://localhost:8080/",
          "height": 389
        }
      },
      "source": [
        "sns.boxplot(x='model_name', y='f1_micro', data=cv_df)\n",
        "sns.stripplot(x='model_name', y='f1_micro', data=cv_df, \n",
        "              size=8, jitter=True, edgecolor=\"gray\", linewidth=2)\n",
        "plt.show()"
      ],
      "execution_count": 0,
      "outputs": [
        {
          "output_type": "display_data",
          "data": {
            "image/png": "[encoded data removed]",
            "text/plain": [
              "<Figure size 864x432 with 1 Axes>"
            ]
          },
          "metadata": {
            "tags": []
          }
        }
      ]
    },
    {
      "cell_type": "markdown",
      "metadata": {
        "id": "4PKkxKZvpufJ",
        "colab_type": "text"
      },
      "source": [
        "#### Since we are getting the best accuraxy in LinearSVC and LinearSVC doesn't take long time to give inference, we should use it as the final model and save the file for the web-service"
      ]
    },
    {
      "cell_type": "code",
      "metadata": {
        "id": "ZlBUfsPWtX36",
        "colab_type": "code",
        "outputId": "946a92dc-0c83-4c65-fade-0a1c71940112",
        "colab": {
          "base_uri": "https://localhost:8080/",
          "height": 357
        }
      },
      "source": [
        "model = LinearSVC()\n",
        "X_train, X_test, y_train, y_test, indices_train, indices_test = train_test_split(features, data['Category'], data.index, \n",
        "                                                                                 test_size=0.2, random_state=0)\n",
        "print(X_test)\n",
        "print(y_test)\n",
        "model.fit(X_train, y_train)\n",
        "y_pred = model.predict(X_test)\n",
        "conf_mat = confusion_matrix(y_test, y_pred)\n",
        "print(accuracy_score(y_test, y_pred))"
      ],
      "execution_count": 0,
      "outputs": [
        {
          "output_type": "stream",
          "text": [
            "[[0. 0. 0. ... 0. 0. 0.]\n",
            " [0. 0. 0. ... 0. 0. 0.]\n",
            " [0. 0. 0. ... 0. 0. 0.]\n",
            " ...\n",
            " [0. 0. 0. ... 0. 0. 0.]\n",
            " [0. 0. 0. ... 0. 0. 0.]\n",
            " [0. 0. 0. ... 0. 0. 0.]]\n",
            "6682                    BILL\n",
            "44197                   BILL\n",
            "2657                    BILL\n",
            "51129          POLICY CHANGE\n",
            "35114    CANCELLATION NOTICE\n",
            "                ...         \n",
            "34683          POLICY CHANGE\n",
            "4706                    BILL\n",
            "51725          POLICY CHANGE\n",
            "49308          POLICY CHANGE\n",
            "57075    CANCELLATION NOTICE\n",
            "Name: Category, Length: 12441, dtype: object\n",
            "0.870749939715457\n"
          ],
          "name": "stdout"
        }
      ]
    },
    {
      "cell_type": "code",
      "metadata": {
        "id": "XmXiOAyfh-7i",
        "colab_type": "code",
        "outputId": "41ceee74-5fe3-4c12-eb5d-c766826cf478",
        "colab": {
          "base_uri": "https://localhost:8080/",
          "height": 34
        }
      },
      "source": [
        "X_test[4:5]"
      ],
      "execution_count": 0,
      "outputs": [
        {
          "output_type": "execute_result",
          "data": {
            "text/plain": [
              "array([[0., 0., 0., ..., 0., 0., 0.]])"
            ]
          },
          "metadata": {
            "tags": []
          },
          "execution_count": 53
        }
      ]
    },
    {
      "cell_type": "code",
      "metadata": {
        "id": "suFeLbJOtdAX",
        "colab_type": "code",
        "colab": {}
      },
      "source": [
        "new_conf_mat = []\n",
        "for i in range(len(conf_mat[0])):\n",
        "    actual_value = sum(conf_mat[i])\n",
        "    new_conf_mat.append([])\n",
        "    for j in range(len(conf_mat[0])):\n",
        "        val = conf_mat[i][j]\n",
        "        new_conf_mat[i].append(val/actual_value * 100)\n",
        "        \n",
        "new_conf_mat = np.array(new_conf_mat)"
      ],
      "execution_count": 0,
      "outputs": []
    },
    {
      "cell_type": "markdown",
      "metadata": {
        "id": "OEH0sfT4qvSK",
        "colab_type": "text"
      },
      "source": [
        "#### There is still biased towards the majority class. New strategy should be implemented in future works to avoid this. We tried undersampling, but that didn't change the result. "
      ]
    },
    {
      "cell_type": "code",
      "metadata": {
        "id": "mOVUqAlatg3p",
        "colab_type": "code",
        "outputId": "245862ac-5d2a-495c-9a85-aa016455ec83",
        "colab": {
          "base_uri": "https://localhost:8080/",
          "height": 732
        }
      },
      "source": [
        "fig, ax = plt.subplots(figsize=(10,10))\n",
        "category_ids = data.groupby(['Category']).count().index\n",
        "sns.heatmap(new_conf_mat, annot=True,\n",
        "           xticklabels=category_ids, yticklabels=category_ids)\n",
        "plt.ylabel('Actual')\n",
        "plt.xlabel('Predicted')\n",
        "plt.show()"
      ],
      "execution_count": 0,
      "outputs": [
        {
          "output_type": "display_data",
          "data": {
            "image/png": "[encoded data removed]",
            "text/plain": [
              "<Figure size 720x720 with 2 Axes>"
            ]
          },
          "metadata": {
            "tags": []
          }
        }
      ]
    },
    {
      "cell_type": "markdown",
      "metadata": {
        "id": "STFHND-YqMn6",
        "colab_type": "text"
      },
      "source": [
        "#### Creating the pipeline..."
      ]
    },
    {
      "cell_type": "code",
      "metadata": {
        "id": "ZyljsH0buD9T",
        "colab_type": "code",
        "outputId": "6acff6dc-b4dd-459b-a301-43d761fd0fb4",
        "colab": {
          "base_uri": "https://localhost:8080/",
          "height": 88
        }
      },
      "source": [
        "(features_train, labels_train) = (data.loc[:, 'Sentences'].values, data.loc[:, 'Category'])\n",
        "\n",
        "tfidfv = TfidfVectorizer(ngram_range=(1, 2), min_df=0.005, max_df=0.4, norm='l2')\n",
        "selector = SelectKBest(chi2, k=1000)\n",
        "linear_svc = LinearSVC()\n",
        "\n",
        "calibrated_svc = CalibratedClassifierCV(linear_svc, method='sigmoid')\n",
        "\n",
        "linearsvc = Pipeline([('vect', tfidfv),\n",
        "                      ('selector', selector),\n",
        "                      ('clf', calibrated_svc),\n",
        "                      ])\n",
        "\n",
        "linearsvc.fit(features_train, labels_train)\n",
        "import joblib\n",
        "joblib.dump(linearsvc, 'model_final.pkl')"
      ],
      "execution_count": 0,
      "outputs": [
        {
          "output_type": "stream",
          "text": [
            "/usr/local/lib/python3.6/dist-packages/sklearn/externals/joblib/__init__.py:15: FutureWarning: sklearn.externals.joblib is deprecated in 0.21 and will be removed in 0.23. Please import this functionality directly from joblib, which can be installed with: pip install joblib. If this warning is raised when loading pickled models, you may need to re-serialize those models with scikit-learn 0.21+.\n",
            "  warnings.warn(msg, category=FutureWarning)\n"
          ],
          "name": "stderr"
        },
        {
          "output_type": "execute_result",
          "data": {
            "text/plain": [
              "['model_2.pkl']"
            ]
          },
          "metadata": {
            "tags": []
          },
          "execution_count": 30
        }
      ]
    },
    {
      "cell_type": "code",
      "metadata": {
        "id": "j2gR_DNXwg_e",
        "colab_type": "code",
        "outputId": "ef46f447-006d-4fe0-9539-a9214cd1cb9a",
        "colab": {
          "base_uri": "https://localhost:8080/",
          "height": 204
        }
      },
      "source": [
        "!ls "
      ],
      "execution_count": 0,
      "outputs": [
        {
          "output_type": "stream",
          "text": [
            " AttentionModel.ipynb\t\t   Sampling.ipynb\n",
            "'baseline result on testdata'\t   shuffled-full-set-hashed.csv\n",
            " color_tensorflow_real_mode.h5\t   testdata\n",
            " HMM_Classification.ipynb\t   Test_q2.xlsx\n",
            " images\t\t\t\t   Train_q2.xlsx\n",
            " LSTM_Classifcation.ipynb\t   Untitled0.ipynb\n",
            " lstm_classification_keras.ipynb   Untitled1.ipynb\n",
            " model_2.pkl\t\t\t   Untitled2.ipynb\n",
            " model.json\t\t\t   Untitled3.ipynb\n",
            " model.pkl\t\t\t   Untitled4.ipynb\n",
            " Opencountry\t\t\t   Untitled5.ipynb\n"
          ],
          "name": "stdout"
        }
      ]
    },
    {
      "cell_type": "code",
      "metadata": {
        "id": "cmXjbgtlDjb1",
        "colab_type": "code",
        "colab": {}
      },
      "source": [
        ""
      ],
      "execution_count": 0,
      "outputs": []
    }
  ]
}